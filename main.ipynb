{
 "cells": [
  {
   "cell_type": "code",
   "execution_count": 3,
   "metadata": {},
   "outputs": [
    {
     "name": "stderr",
     "output_type": "stream",
     "text": [
      "[nltk_data] Downloading package punkt to\n",
      "[nltk_data]     C:\\Users\\Rafael\\AppData\\Roaming\\nltk_data...\n",
      "[nltk_data]   Package punkt is already up-to-date!\n"
     ]
    },
    {
     "data": {
      "text/plain": [
       "True"
      ]
     },
     "execution_count": 3,
     "metadata": {},
     "output_type": "execute_result"
    }
   ],
   "source": [
    "import gradio as gr\n",
    "import nltk\n",
    "from sklearn.feature_extraction.text import TfidfVectorizer\n",
    "from sklearn.metrics.pairwise import cosine_similarity\n",
    "import numpy as np\n",
    "\n",
    "nltk.download('punkt')"
   ]
  },
  {
   "cell_type": "code",
   "execution_count": 2,
   "metadata": {},
   "outputs": [],
   "source": [
    "\"\"\"Definindo FAQs e respostas gerais para o chatbot\"\"\" \n",
    "\n",
    "# FAQs\n",
    "faqs = {\n",
    "    \"What are your working hours?\": \"I'm here to help you 24/7!\",\n",
    "    \"How can I track my order?\": \"You can track your order by clicking on the tracking link in your order confirmation email.\",\n",
    "    \"Do you offer international shipping?\": \"Yes, we offer international shipping to most countries.\",\n",
    "    \"What payment methods do you accept?\": \"We accept Visa, Mastercard, American Express, Discover, JCB, and Diners Club.\",\n",
    "    \"How can I contact customer support\": \"You can reach us via email at support @example.com or by phone at 1-800-123-4567.\",\n",
    "    \"Do you offer discounts?\": \"Yes, we offer discounts for students and senior citizens.\",\n",
    "    \"Can I cancel my order?\": \"You can cancel your order within 24 hours of placing it.\",\n",
    "}\n",
    "\n",
    "\n",
    "# Conversação geral:\n",
    "general_chat = {\n",
    "    \"hi\": \"Hello! How can I help you today?\",\n",
    "    \"hello\": \"Hello! How can I help you?\",\n",
    "    \"hey\": \"Hey! What can I do for you?\",\n",
    "    \"how are you?\": \"I'm a bot, so I don't have feelings, but I'm here to help you!\",\n",
    "    \"who are you?\": \"I'm a chatbot designed to help you with your questions!\",\n",
    "    \"what are you?\": \"I'm a chatbot designed to help you with your questions!\",\n",
    "    \"what can you do?\": \"I can help you with your questions!\",\n",
    "    \"thanks\": \"You're welcome! Let me know if you need help with anything else!\",\n",
    "    \"bye\": \"Goodbye! Have a great day!\",\n",
    "}\n",
    "\n",
    "# combinando FAQ e respostas gerais:\n",
    "\n",
    "faq_questions = list(faqs.keys())\n",
    "faq_answers = list(faqs.values())\n",
    "\n",
    "general_qustions = list(general_chat.keys())\n",
    "general_answers = list(general_chat.values())\n",
    "\n",
    "all_questions = faq_questions + general_qustions\n",
    "all_answers = faq_answers + general_answers\n",
    "\n",
    "# Vetorizando as perguntas (TF-IDF):\n",
    "vectorizer = TfidfVectorizer()\n",
    "fac_vectors = vectorizer.fit_transform(all_questions)\n",
    "\n"
   ]
  },
  {
   "cell_type": "code",
   "execution_count": null,
   "metadata": {},
   "outputs": [],
   "source": [
    "def chatbot_response(user_input):\n",
    "    user_input = user_input.lower().strip()\n",
    "\n",
    "    # Converter user input para vetor\n",
    "    user_vector = vectorizer.transform([user_input])\n",
    "\n",
    "    "
   ]
  }
 ],
 "metadata": {
  "kernelspec": {
   "display_name": "ds_env",
   "language": "python",
   "name": "python3"
  },
  "language_info": {
   "codemirror_mode": {
    "name": "ipython",
    "version": 3
   },
   "file_extension": ".py",
   "mimetype": "text/x-python",
   "name": "python",
   "nbconvert_exporter": "python",
   "pygments_lexer": "ipython3",
   "version": "3.11.11"
  }
 },
 "nbformat": 4,
 "nbformat_minor": 2
}
